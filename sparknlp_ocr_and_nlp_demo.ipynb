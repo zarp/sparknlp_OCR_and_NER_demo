{
 "cells": [
  {
   "cell_type": "markdown",
   "metadata": {},
   "source": [
    "## Task\n",
    "\n",
    "We will use Spark NLP to perform OCR and then NER (named entity extraction) on public PDF documents pulled from the web. In particular - we will build a Spark NLP pipeline that processes a set of PDF documents, OCR's them and pull entities like person, location, and organization."
   ]
  },
  {
   "cell_type": "code",
   "execution_count": 1,
   "metadata": {},
   "outputs": [
    {
     "name": "stdout",
     "output_type": "stream",
     "text": [
      "Download complete for  https://www.cdc.gov/nchhstp/stateprofiles/pdf/Arizona_profile.pdf\n",
      "Download complete for  https://www.nrdc.org/sites/default/files/ClimateWaterFS_PhoenixAZ.pdf\n",
      "Download complete for  https://www.azcc.gov/Divisions/Corporations/Ten-Steps-to-Starting-a-Business-in-Arizona.pdf\n"
     ]
    }
   ],
   "source": [
    "#PDFs that will be downloaded and used as inputs for our OCR + NER pipeline\n",
    "filenames = ['https://www.cdc.gov/nchhstp/stateprofiles/pdf/Arizona_profile.pdf',\n",
    "             'https://www.nrdc.org/sites/default/files/ClimateWaterFS_PhoenixAZ.pdf',\n",
    "             'https://www.azcc.gov/Divisions/Corporations/Ten-Steps-to-Starting-a-Business-in-Arizona.pdf'\n",
    "            ]\n",
    "\n",
    "files_for_ocr = []\n",
    "\n",
    "import urllib.request\n",
    "for ind, fname in enumerate(filenames):\n",
    "    try:\n",
    "        urllib.request.urlretrieve(fname, 'testfile_' + str(ind) + '.pdf')\n",
    "        print('Download complete for ', fname)\n",
    "        files_for_ocr.append('testfile_' + str(ind) + '.pdf')\n",
    "    except:\n",
    "        print('Failed to download file ', fname)"
   ]
  },
  {
   "cell_type": "code",
   "execution_count": 2,
   "metadata": {},
   "outputs": [],
   "source": [
    "import sparknlp\n",
    "from sparknlp.pretrained import PretrainedPipeline\n",
    "\n",
    "spark = sparknlp.start(include_ocr=True)\n",
    "model = PretrainedPipeline('explain_document_dl')"
   ]
  },
  {
   "cell_type": "code",
   "execution_count": 3,
   "metadata": {},
   "outputs": [
    {
     "name": "stdout",
     "output_type": "stream",
     "text": [
      "OCRing file:  testfile_0.pdf\n",
      "Extracting NER information\n",
      "People:  {'\\uf0b7'}\n",
      "Organizations:  {'Prevention', 'Reported', 'Supported', 'Program', 'State', 'Ranked', 'Center', 'National', 'Disease', 'School', 'Arizona', 'Information', 'P&S', 'CS2382532', 'Centers', 'Initiatives', 'More', '\\uf0b7', 'health', 'CDC', 'Profile', 'Control', 'for', 'TB', 'HIV/AIDS', 'Health'}\n",
      "Locations:  {'County', 'U.S.', 'States', 'Maricopa', 'Arizona', 'United'}\n",
      "OCRing file:  testfile_1.pdf\n",
      "Extracting NER information\n",
      "People:  {'Michelle', 'Mehta'}\n",
      "Organizations:  {'Arizona-Identifying', 'Defense', 'Council', 'Phoenix', 'Southwest', 'Resilient', 'Network', '“', 'l_', 'Phoenix’s', 'The', 'PDF', 'CAP', 'NRDC', 'of', 'Change', '©', 'More', 'Resources', 'and', 'Climate', 'Natural', 'Impacts', 'Becoming', 'H', 'For'}\n",
      "Locations:  {'Verde', 'Desert', 'States', 'Underground', 'Sonoran', 'Phoenix', 'Salt', 'Project', 'Reef', 'Storage', 'Arizona', 'Situated', 'River', 'Colorado', 'Granite', 'Central', 'United'}\n",
      "OCRing file:  testfile_2.pdf\n",
      "Extracting NER information\n",
      "People:  set()\n",
      "Organizations:  {'IRS', 'the', 'A', 'Corporation', 'EIN', 'Commerce', 'ADOR', '–', 'State’s', 'State', 'Articles', 'CORPORATIONS', 'CITY', 'Commission', 'FEDERAL', 'Internal', 'CORPORATION', 'Arizona', 'COMMISSION', 'Service', 'LLC', 'Authority', 'of', 'Services', 'Business', 'Check', '\\uf0b7', 'Department', 'Incorporation', 'Small', 'TIN', 'LLCs', 'ARIZONA', 'Organization', 'OR', 'Revenue', 'Submit', 'DIVISION', 'Corporations', 'Division', 'Google', 'A.C.C.'}\n",
      "Locations:  {'Phoenix', 'West', 'Arizona', 'State', 'ARIZONA', 'A.C.C.', 'Washington', 'Street'}\n"
     ]
    }
   ],
   "source": [
    "from sparknlp.ocr import OcrHelper\n",
    "\n",
    "for cur_file in files_for_ocr:\n",
    "    print('\\nOCRing file: ', cur_file)\n",
    "    data = OcrHelper().createDataset(spark, cur_file)\n",
    "\n",
    "    print('Extracting NER information')\n",
    "    people, locs, orgs = set(), set(), set() #'I-PER', 'I-LOC', 'I-ORG' \n",
    "\n",
    "    for row in data.collect():\n",
    "        result = model.annotate(row['text'], 'text')\n",
    "        ner_outputs = list(zip(result['token'], result['ner']))\n",
    "\n",
    "        for entry in ner_outputs:\n",
    "            if entry[1] == 'I-PER':\n",
    "                people.add(entry[0])\n",
    "            elif entry[1] == 'I-ORG':\n",
    "                orgs.add(entry[0])\n",
    "            elif entry[1] == 'I-LOC':\n",
    "                locs.add(entry[0])\n",
    "\n",
    "    print('People: ', people)\n",
    "    print('Organizations: ', orgs)\n",
    "    print('Locations: ', locs)\n"
   ]
  }
 ],
 "metadata": {
  "kernelspec": {
   "display_name": "Python 3",
   "language": "python",
   "name": "python3"
  },
  "language_info": {
   "codemirror_mode": {
    "name": "ipython",
    "version": 3
   },
   "file_extension": ".py",
   "mimetype": "text/x-python",
   "name": "python",
   "nbconvert_exporter": "python",
   "pygments_lexer": "ipython3",
   "version": "3.6.5"
  }
 },
 "nbformat": 4,
 "nbformat_minor": 2
}
